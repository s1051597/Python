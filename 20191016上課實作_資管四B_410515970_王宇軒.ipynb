{
 "cells": [
  {
   "cell_type": "markdown",
   "metadata": {},
   "source": [
    "## 實作練習1"
   ]
  },
  {
   "cell_type": "code",
   "execution_count": 1,
   "metadata": {},
   "outputs": [
    {
     "name": "stdout",
     "output_type": "stream",
     "text": [
      "請輸入成績79\n",
      "乙等\n"
     ]
    }
   ],
   "source": [
    "a = int(input(\"請輸入成績\"))\n",
    "if(a>=90):\n",
    "    print(\"優等\")\n",
    "elif(a>=80):\n",
    "    print(\"甲等\")\n",
    "elif(a>=70):\n",
    "    print(\"乙等\")\n",
    "elif(a>=60):\n",
    "    print(\"丙等\")\n",
    "else:\n",
    "    print(\"丁等\")"
   ]
  },
  {
   "cell_type": "markdown",
   "metadata": {},
   "source": [
    "## 實作練習2"
   ]
  },
  {
   "cell_type": "code",
   "execution_count": 2,
   "metadata": {},
   "outputs": [
    {
     "name": "stdout",
     "output_type": "stream",
     "text": [
      "請輸入正整數50\n",
      "1到50的整數和為1275\n"
     ]
    }
   ],
   "source": [
    "a = int(input(\"請輸入正整數\"))\n",
    "sum=0\n",
    "for i in range(a+1):\n",
    "    sum+=i\n",
    "print(\"1到%d的整數和為%d\" %(a,sum))"
   ]
  },
  {
   "cell_type": "markdown",
   "metadata": {},
   "source": [
    "## 實作練習5"
   ]
  },
  {
   "cell_type": "code",
   "execution_count": 5,
   "metadata": {},
   "outputs": [
    {
     "name": "stdout",
     "output_type": "stream",
     "text": [
      "請輸入正整數12\n",
      "1 2 3 4 6 7 8 9 11 12 "
     ]
    }
   ],
   "source": [
    "a = int(input(\"請輸入正整數\"))\n",
    "for i in range(a+1):\n",
    "    if(i%5==0):\n",
    "        continue\n",
    "    print(i,end=\" \")"
   ]
  },
  {
   "cell_type": "markdown",
   "metadata": {},
   "source": [
    "## 實作練習6"
   ]
  },
  {
   "cell_type": "code",
   "execution_count": 11,
   "metadata": {},
   "outputs": [
    {
     "name": "stdout",
     "output_type": "stream",
     "text": [
      "請輸入一個正整數n的值5\n",
      "5!=120\n"
     ]
    }
   ],
   "source": [
    "n = int(input(\"請輸入一個正整數n的值\"))\n",
    "sum=1\n",
    "i=1\n",
    "while(i<=n):\n",
    "    sum*=i\n",
    "    i+=1\n",
    "print(\"%d!=%d\" %(n,sum))"
   ]
  },
  {
   "cell_type": "code",
   "execution_count": null,
   "metadata": {},
   "outputs": [],
   "source": []
  }
 ],
 "metadata": {
  "kernelspec": {
   "display_name": "Python 3",
   "language": "python",
   "name": "python3"
  },
  "language_info": {
   "codemirror_mode": {
    "name": "ipython",
    "version": 3
   },
   "file_extension": ".py",
   "mimetype": "text/x-python",
   "name": "python",
   "nbconvert_exporter": "python",
   "pygments_lexer": "ipython3",
   "version": "3.7.3"
  }
 },
 "nbformat": 4,
 "nbformat_minor": 2
}
